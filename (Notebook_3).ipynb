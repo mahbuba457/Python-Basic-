{
  "nbformat": 4,
  "nbformat_minor": 0,
  "metadata": {
    "colab": {
      "name": "(Notebook-3).ipynb",
      "provenance": [],
      "collapsed_sections": [],
      "include_colab_link": true
    },
    "kernelspec": {
      "name": "python3",
      "display_name": "Python 3"
    }
  },
  "cells": [
    {
      "cell_type": "markdown",
      "metadata": {
        "id": "view-in-github",
        "colab_type": "text"
      },
      "source": [
        "<a href=\"https://colab.research.google.com/github/mahbuba457/Python-Basic-/blob/master/(Notebook_3).ipynb\" target=\"_parent\"><img src=\"https://colab.research.google.com/assets/colab-badge.svg\" alt=\"Open In Colab\"/></a>"
      ]
    },
    {
      "cell_type": "code",
      "metadata": {
        "id": "put0KDaH6qOk",
        "outputId": "3c0e3f4a-bd5e-4a44-ad9a-5758976ecfa4",
        "colab": {
          "base_uri": "https://localhost:8080/",
          "height": 136
        }
      },
      "source": [
        "#built-in functions\n",
        "\n",
        "print(\" I am fine.How are you?\")\n",
        "print(\"Let me know if you fine or not good. \")\n",
        "s=input()\n",
        "\n",
        "a=10\n",
        "b=21\n",
        "print(max(a,b))\n",
        "print(min(a,b))\n",
        "\n",
        "c=10.4\n",
        "d=int(c)\n",
        "print(d)\n",
        "\n",
        "e=\"Mahbuba Yesmin\"\n",
        "print(type(e))"
      ],
      "execution_count": null,
      "outputs": [
        {
          "output_type": "stream",
          "text": [
            " I am fine.How are you?\n",
            "Let me know if you fine or not good. \n",
            "Yes,I am fine\n",
            "21\n",
            "10\n",
            "10\n",
            "<class 'str'>\n"
          ],
          "name": "stdout"
        }
      ]
    },
    {
      "cell_type": "code",
      "metadata": {
        "id": "rfnylNHAAXPm",
        "outputId": "5ecbe01e-636d-44b2-8ad8-9722997e29af",
        "colab": {
          "base_uri": "https://localhost:8080/",
          "height": 68
        }
      },
      "source": [
        "#user defined function\n",
        "\n",
        "def add(p,q):\n",
        "    r=p+q\n",
        "    return r\n",
        "\n",
        "p=int(input(\"Enter a number: \"))\n",
        "q=int(input(\"Enter a number: \"))\n",
        "s=add(p,q)\n",
        "print(\"The sum is\", s)"
      ],
      "execution_count": null,
      "outputs": [
        {
          "output_type": "stream",
          "text": [
            "Enter a number: 5000\n",
            "Enter a number: 50000\n",
            "The sum is 55000\n"
          ],
          "name": "stdout"
        }
      ]
    },
    {
      "cell_type": "code",
      "metadata": {
        "id": "20olaGqmBX7J",
        "outputId": "30ccb6ed-8f3e-4cb5-c133-bc9f326f733d",
        "colab": {
          "base_uri": "https://localhost:8080/",
          "height": 85
        }
      },
      "source": [
        "#function with multiple parameters\n",
        "\n",
        "def div(p,q,m):\n",
        "    if p%m==0 and q%m==0:\n",
        "        print(\"%d & %d are divisible by %d\"%(p,q,m))\n",
        "    elif p%m==0:\n",
        "        print(\"only %d is divisible by %d\"%(p,m))\n",
        "    elif q%m==0:\n",
        "        print(\"only %d is divisible by %d\"%(q,m))\n",
        "    else:\n",
        "        print(\"none of %d & %d is divisible by %d\"%(p,q,d))\n",
        "\n",
        "div(100,20,5)\n",
        "div(120,20,5)\n",
        "div(100,22,5)\n",
        "div(20,5,3)"
      ],
      "execution_count": null,
      "outputs": [
        {
          "output_type": "stream",
          "text": [
            "100 & 20 are divisible by 5\n",
            "120 & 20 are divisible by 5\n",
            "only 100 is divisible by 5\n",
            "none of 20 & 5 is divisible by 10\n"
          ],
          "name": "stdout"
        }
      ]
    },
    {
      "cell_type": "code",
      "metadata": {
        "id": "P3YgiignDl9E",
        "outputId": "2d873480-ee8b-4380-ca83-34c315ea6070",
        "colab": {
          "base_uri": "https://localhost:8080/",
          "height": 34
        }
      },
      "source": [
        "#function without parameter\n",
        "\n",
        "def sum():\n",
        "    p=3+800\n",
        "    return p\n",
        "\n",
        "q=sum()\n",
        "print(q)"
      ],
      "execution_count": null,
      "outputs": [
        {
          "output_type": "stream",
          "text": [
            "803\n"
          ],
          "name": "stdout"
        }
      ]
    },
    {
      "cell_type": "code",
      "metadata": {
        "id": "x-A4XKYhM_t8",
        "outputId": "2f7c98ee-d516-4d58-a616-f67aecddf6b2",
        "colab": {
          "base_uri": "https://localhost:8080/",
          "height": 51
        }
      },
      "source": [
        "#function with default parameter value\n",
        "\n",
        "def check(a=0):\n",
        "    if a==0:\n",
        "        print(\"Zero\")\n",
        "    elif a>0:\n",
        "        print(\"Positive\")\n",
        "    else:\n",
        "        print(\"Negative\")\n",
        "\n",
        "check(50000)    \n",
        "check(-4)   "
      ],
      "execution_count": null,
      "outputs": [
        {
          "output_type": "stream",
          "text": [
            "Positive\n",
            "Negative\n"
          ],
          "name": "stdout"
        }
      ]
    },
    {
      "cell_type": "code",
      "metadata": {
        "id": "Mru9JQ-tNkw3",
        "outputId": "ec65378a-ffc3-4895-b4e4-1d9d83033aa0",
        "colab": {
          "base_uri": "https://localhost:8080/",
          "height": 51
        }
      },
      "source": [
        "#local scope\n",
        "\n",
        "def local_scope():\n",
        "    s=80\n",
        "    print(s)\n",
        "\n",
        "local_scope()\n",
        "print(s)"
      ],
      "execution_count": null,
      "outputs": [
        {
          "output_type": "stream",
          "text": [
            "80\n",
            "600\n"
          ],
          "name": "stdout"
        }
      ]
    },
    {
      "cell_type": "code",
      "metadata": {
        "id": "EyROFGhnQJVf",
        "outputId": "020e8a27-4d7c-4a55-b46f-57af72842717",
        "colab": {
          "base_uri": "https://localhost:8080/",
          "height": 51
        }
      },
      "source": [
        "#local scope\n",
        "\n",
        "def local_scope():\n",
        "    s=80\n",
        "    return s\n",
        "\n",
        "p=local_scope()\n",
        "print(p)\n",
        "print(s)"
      ],
      "execution_count": null,
      "outputs": [
        {
          "output_type": "stream",
          "text": [
            "80\n",
            "600\n"
          ],
          "name": "stdout"
        }
      ]
    },
    {
      "cell_type": "code",
      "metadata": {
        "id": "r9JthIe-RbSe",
        "outputId": "723ae03b-681a-4c99-9318-2b0ccbcdb645",
        "colab": {
          "base_uri": "https://localhost:8080/",
          "height": 51
        }
      },
      "source": [
        "#global scope\n",
        "\n",
        "s=100\n",
        "\n",
        "def global_scope():\n",
        "    print(s)\n",
        "\n",
        "print(s)\n",
        "global_scope()"
      ],
      "execution_count": null,
      "outputs": [
        {
          "output_type": "stream",
          "text": [
            "100\n",
            "100\n"
          ],
          "name": "stdout"
        }
      ]
    },
    {
      "cell_type": "code",
      "metadata": {
        "id": "go6zuWDAP_Ck",
        "outputId": "c8acfaa2-c2a9-4e41-b3ee-37bfb414f790",
        "colab": {
          "base_uri": "https://localhost:8080/",
          "height": 34
        }
      },
      "source": [
        "#global scope\n",
        "\n",
        "def global_scope():\n",
        "    global s\n",
        "    s=5000\n",
        "\n",
        "global_scope()\n",
        "print(s)"
      ],
      "execution_count": null,
      "outputs": [
        {
          "output_type": "stream",
          "text": [
            "5000\n"
          ],
          "name": "stdout"
        }
      ]
    },
    {
      "cell_type": "code",
      "metadata": {
        "id": "j4cIn_-czeFt",
        "outputId": "324712ee-9c64-4eac-83fb-3e0fffa44e56",
        "colab": {
          "base_uri": "https://localhost:8080/",
          "height": 34
        }
      },
      "source": [
        "from google.colab import drive\n",
        "drive.mount('/content/drive/')"
      ],
      "execution_count": null,
      "outputs": [
        {
          "output_type": "stream",
          "text": [
            "Drive already mounted at /content/drive/; to attempt to forcibly remount, call drive.mount(\"/content/drive/\", force_remount=True).\n"
          ],
          "name": "stdout"
        }
      ]
    },
    {
      "cell_type": "code",
      "metadata": {
        "id": "On5yNCjtik45",
        "outputId": "7a983e97-7fab-45ca-be72-f09a226b95dd",
        "colab": {
          "base_uri": "https://localhost:8080/",
          "height": 119
        }
      },
      "source": [
        "#python standard library\n",
        "#csv module\n",
        "\n",
        "import csv\n",
        "\n",
        "with open('/content/drive/My Drive/Colab Notebooks/test (2).csv', newline='') as csvfile:\n",
        "    tmp = csv.reader(csvfile, delimiter=' ', quotechar='|')\n",
        "    for row in tmp:\n",
        "        print(', '.join(row))"
      ],
      "execution_count": null,
      "outputs": [
        {
          "output_type": "stream",
          "text": [
            "Name,Popularity(out, of, 10)\n",
            "Python,9\n",
            "C,6\n",
            "C++,8\n",
            "Java,7\n",
            "Prolog,3\n"
          ],
          "name": "stdout"
        }
      ]
    },
    {
      "cell_type": "code",
      "metadata": {
        "id": "ZZTX9sWwWBrK",
        "outputId": "aecc0f8e-5e73-45af-d03b-e30844226713",
        "colab": {
          "base_uri": "https://localhost:8080/",
          "height": 119
        }
      },
      "source": [
        "#python standard library\n",
        "#math module\n",
        "\n",
        "import math\n",
        "\n",
        "print(math.pi)          #\n",
        "\n",
        "m=50.2\n",
        "print(math.ceil(m))     \n",
        "print(math.floor(m))    \n",
        "\n",
        "print(math.sin(78))    \n",
        "\n",
        "print(math.pow(2,80))    \n",
        "\n",
        "print(math.sqrt(60))    "
      ],
      "execution_count": null,
      "outputs": [
        {
          "output_type": "stream",
          "text": [
            "3.141592653589793\n",
            "51\n",
            "50\n",
            "0.5139784559875352\n",
            "1.2089258196146292e+24\n",
            "7.745966692414834\n"
          ],
          "name": "stdout"
        }
      ]
    },
    {
      "cell_type": "code",
      "metadata": {
        "id": "oNMwA28pzY-Z"
      },
      "source": [
        ""
      ],
      "execution_count": null,
      "outputs": []
    }
  ]
}