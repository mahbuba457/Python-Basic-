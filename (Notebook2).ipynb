{
  "nbformat": 4,
  "nbformat_minor": 0,
  "metadata": {
    "colab": {
      "name": "(Notebook2).ipynb",
      "provenance": [],
      "collapsed_sections": [],
      "include_colab_link": true
    },
    "kernelspec": {
      "name": "python3",
      "display_name": "Python 3"
    }
  },
  "cells": [
    {
      "cell_type": "markdown",
      "metadata": {
        "id": "view-in-github",
        "colab_type": "text"
      },
      "source": [
        "<a href=\"https://colab.research.google.com/github/mahbuba457/Python-Basic-/blob/master/(Notebook2).ipynb\" target=\"_parent\"><img src=\"https://colab.research.google.com/assets/colab-badge.svg\" alt=\"Open In Colab\"/></a>"
      ]
    },
    {
      "cell_type": "markdown",
      "metadata": {
        "id": "RWwwRU2I2lI7"
      },
      "source": [
        "## **IF statement**\n",
        "\n",
        "---\n",
        "\n"
      ]
    },
    {
      "cell_type": "code",
      "metadata": {
        "id": "a-PKtStV2Nlk",
        "outputId": "8ab409e2-deea-4e46-ff6d-ef678ab8d495",
        "colab": {
          "base_uri": "https://localhost:8080/",
          "height": 34
        }
      },
      "source": [
        "gpa = 70\n",
        "if gpa>=60:\n",
        "  print(\"passed\")"
      ],
      "execution_count": null,
      "outputs": [
        {
          "output_type": "stream",
          "text": [
            "passed\n"
          ],
          "name": "stdout"
        }
      ]
    },
    {
      "cell_type": "markdown",
      "metadata": {
        "id": "mY8fFeAL6Ex_"
      },
      "source": [
        "# **If else statement**\n",
        "\n",
        "---\n",
        "\n"
      ]
    },
    {
      "cell_type": "code",
      "metadata": {
        "id": "E7pGGza858UI",
        "outputId": "049ff425-a06a-4747-94eb-d7211090c71d",
        "colab": {
          "base_uri": "https://localhost:8080/",
          "height": 34
        }
      },
      "source": [
        "gpa =70\n",
        "if gpa>=60:\n",
        "  print(\"passed\")\n",
        "else:\n",
        "  print(\"fail\")"
      ],
      "execution_count": null,
      "outputs": [
        {
          "output_type": "stream",
          "text": [
            "passed\n"
          ],
          "name": "stdout"
        }
      ]
    },
    {
      "cell_type": "markdown",
      "metadata": {
        "id": "Ly8hCrTx7C5D"
      },
      "source": [
        "# **Conditional expression**\n",
        "\n",
        "---\n",
        "\n"
      ]
    },
    {
      "cell_type": "code",
      "metadata": {
        "id": "VS2sqH05OOM5",
        "outputId": "ab24eb07-662a-481d-9f28-8e1a2277da53",
        "colab": {
          "base_uri": "https://localhost:8080/",
          "height": 34
        }
      },
      "source": [
        "result=('passed'if gpa>=60 else 'Failed')\n",
        "print(result)"
      ],
      "execution_count": null,
      "outputs": [
        {
          "output_type": "stream",
          "text": [
            "passed\n"
          ],
          "name": "stdout"
        }
      ]
    },
    {
      "cell_type": "markdown",
      "metadata": {
        "id": "TtH-sbhdKHa1"
      },
      "source": [
        "## **IF....Elif...else statement**"
      ]
    },
    {
      "cell_type": "code",
      "metadata": {
        "id": "8pfEXN_M6fJe",
        "outputId": "0b35ff60-4b67-427b-b5f2-72831ced4f19",
        "colab": {
          "base_uri": "https://localhost:8080/",
          "height": 34
        }
      },
      "source": [
        "gpa = 90\n",
        "\n",
        "if gpa >= 90:\n",
        "    print('A+')\n",
        "elif gpa >= 80:\n",
        "    print('A')\n",
        "elif gpa >= 70:\n",
        "    print('A-')\n",
        "elif gpa >= 60:\n",
        "    print('B')\n",
        "else:\n",
        "    print('B-')"
      ],
      "execution_count": null,
      "outputs": [
        {
          "output_type": "stream",
          "text": [
            "A+\n"
          ],
          "name": "stdout"
        }
      ]
    },
    {
      "cell_type": "markdown",
      "metadata": {
        "id": "Ge3NK7SC8orQ"
      },
      "source": [
        "# **While Statement**\n",
        "\n",
        "---\n",
        "\n"
      ]
    },
    {
      "cell_type": "code",
      "metadata": {
        "id": "m00-GUff73Lt",
        "outputId": "618ec7d1-52c6-4c16-8e9b-23f71c7f1463",
        "colab": {
          "base_uri": "https://localhost:8080/",
          "height": 34
        }
      },
      "source": [
        "num = 1\n",
        "\n",
        "while (num<50):\n",
        "  print(num, end=\" \") \n",
        "  num+=1"
      ],
      "execution_count": null,
      "outputs": [
        {
          "output_type": "stream",
          "text": [
            "1 2 3 4 5 6 7 8 9 10 11 12 13 14 15 16 17 18 19 20 21 22 23 24 25 26 27 28 29 30 31 32 33 34 35 36 37 38 39 40 41 42 43 44 45 46 47 48 49 "
          ],
          "name": "stdout"
        }
      ]
    },
    {
      "cell_type": "markdown",
      "metadata": {
        "id": "7SZDrmd_9YL8"
      },
      "source": [
        "*while statement to find the first power of 3 larger than 50:*"
      ]
    },
    {
      "cell_type": "code",
      "metadata": {
        "id": "C2KqW8yC8-j2"
      },
      "source": [
        "product = 5\n",
        "\n",
        "while product<=70:\n",
        "  product = product*5"
      ],
      "execution_count": null,
      "outputs": []
    },
    {
      "cell_type": "code",
      "metadata": {
        "id": "8ktBxeIN9jfR",
        "outputId": "8e49e3a5-52f5-423c-9292-5a2cf75c73d3",
        "colab": {
          "base_uri": "https://localhost:8080/",
          "height": 34
        }
      },
      "source": [
        "print(product)"
      ],
      "execution_count": null,
      "outputs": [
        {
          "output_type": "stream",
          "text": [
            "125\n"
          ],
          "name": "stdout"
        }
      ]
    },
    {
      "cell_type": "markdown",
      "metadata": {
        "id": "zI_adojp93oI"
      },
      "source": [
        "# **For statement**\n",
        "\n",
        "---\n",
        "\n"
      ]
    },
    {
      "cell_type": "code",
      "metadata": {
        "id": "EJqNndZI9yzW",
        "outputId": "d836ce79-39b7-4ec0-8fce-fbbbe34a5f46",
        "colab": {
          "base_uri": "https://localhost:8080/",
          "height": 34
        }
      },
      "source": [
        "for character in \"Python is fun\":\n",
        "  print(character, end=\" \")"
      ],
      "execution_count": null,
      "outputs": [
        {
          "output_type": "stream",
          "text": [
            "P y t h o n   i s   f u n "
          ],
          "name": "stdout"
        }
      ]
    },
    {
      "cell_type": "markdown",
      "metadata": {
        "id": "k1qXd6Ur-eqQ"
      },
      "source": [
        "*Built in Range Function*"
      ]
    },
    {
      "cell_type": "markdown",
      "metadata": {
        "id": "kfTYsLmn-uwj"
      },
      "source": [
        "*Let’s use a for statement and the built-in range function to iterate precisely 10 times, displaying the values from 0 through 19:*"
      ]
    },
    {
      "cell_type": "code",
      "metadata": {
        "id": "Ag7GpFeM-UjP",
        "outputId": "db215081-8db8-4b0d-a9f7-8ef26073923b",
        "colab": {
          "base_uri": "https://localhost:8080/",
          "height": 34
        }
      },
      "source": [
        "for counter in range(20):\n",
        "  print(counter, end=\" \")"
      ],
      "execution_count": null,
      "outputs": [
        {
          "output_type": "stream",
          "text": [
            "0 1 2 3 4 5 6 7 8 9 10 11 12 13 14 15 16 17 18 19 "
          ],
          "name": "stdout"
        }
      ]
    },
    {
      "cell_type": "markdown",
      "metadata": {
        "id": "cvPHvYq3_K1s"
      },
      "source": [
        "Use the range function and a for statement to calculate the total of the integers from 0 through 1,000,00000.\n"
      ]
    },
    {
      "cell_type": "code",
      "metadata": {
        "id": "9T3eru-p-9Fo",
        "outputId": "dc7448b0-fa93-4855-93ee-5b2eab913eeb",
        "colab": {
          "base_uri": "https://localhost:8080/",
          "height": 34
        }
      },
      "source": [
        "total = 0\n",
        "for num in range(100000001):\n",
        "  total = total+num\n",
        "\n",
        "print(total)"
      ],
      "execution_count": null,
      "outputs": [
        {
          "output_type": "stream",
          "text": [
            "5000000050000000\n"
          ],
          "name": "stdout"
        }
      ]
    },
    {
      "cell_type": "markdown",
      "metadata": {
        "id": "3tsnt0yr_xDt"
      },
      "source": [
        "Function range also has two- and three-argument versions. As you’ve seen, range’s one argument version produces a sequence of consecutive integers from 0 up to, but not including, the argument’s value. Function range’s two-argument version produces a sequence of consecutive integers from its first argument’s value up to, but not including, the second argument’s value, as in:\n"
      ]
    },
    {
      "cell_type": "code",
      "metadata": {
        "id": "sd-DpDDw_g0u",
        "outputId": "28f03473-d585-4ffb-ce33-3f29ce2b25b2",
        "colab": {
          "base_uri": "https://localhost:8080/",
          "height": 34
        }
      },
      "source": [
        "for num in range(5,50):\n",
        "  print(num, end=\" \")"
      ],
      "execution_count": null,
      "outputs": [
        {
          "output_type": "stream",
          "text": [
            "5 6 7 8 9 10 11 12 13 14 15 16 17 18 19 20 21 22 23 24 25 26 27 28 29 30 31 32 33 34 35 36 37 38 39 40 41 42 43 44 45 46 47 48 49 "
          ],
          "name": "stdout"
        }
      ]
    },
    {
      "cell_type": "markdown",
      "metadata": {
        "id": "DdS1ei_OAJfH"
      },
      "source": [
        "Function range’s three-argument version produces a sequence of integers from its first argument’s value up to, but not including, the second argument’s value, incrementing by the third argument’s value, which is known as the step:\n"
      ]
    },
    {
      "cell_type": "code",
      "metadata": {
        "id": "raqcsOM6ABv4",
        "outputId": "6c5da600-1878-4502-e31d-54902684ebae",
        "colab": {
          "base_uri": "https://localhost:8080/",
          "height": 34
        }
      },
      "source": [
        "for number in range(0,50,5):\n",
        "  print(number, end=\" \")"
      ],
      "execution_count": null,
      "outputs": [
        {
          "output_type": "stream",
          "text": [
            "0 5 10 15 20 25 30 35 40 45 "
          ],
          "name": "stdout"
        }
      ]
    },
    {
      "cell_type": "markdown",
      "metadata": {
        "id": "4n0Wzf-MA4gL"
      },
      "source": [
        "If the third argument is negative, the sequence progresses from the first argument’s value down to, but not including the second argument’s value, decrementing by the third argument’s value, as in:\n"
      ]
    },
    {
      "cell_type": "code",
      "metadata": {
        "id": "M1KUsCkgAZmv",
        "outputId": "c0d9ec12-7bcf-4dd7-c64c-18a0d0b09fa0",
        "colab": {
          "base_uri": "https://localhost:8080/",
          "height": 34
        }
      },
      "source": [
        "for num in range(20,0,-2):\n",
        "  print(num, end=\" \")"
      ],
      "execution_count": null,
      "outputs": [
        {
          "output_type": "stream",
          "text": [
            "20 18 16 14 12 10 8 6 4 2 "
          ],
          "name": "stdout"
        }
      ]
    },
    {
      "cell_type": "markdown",
      "metadata": {
        "id": "EV15Fh_tBQbQ"
      },
      "source": [
        "*Number table print using range function*\n",
        "\n",
        "\n",
        "---\n",
        "\n",
        "\n",
        "\n",
        "---\n",
        "\n",
        "\n",
        "\n",
        "Take an input from user and print the number table"
      ]
    },
    {
      "cell_type": "code",
      "metadata": {
        "id": "Ebkd2RrwA-dg",
        "outputId": "04aab5ed-8ff5-4aa6-de57-877f4311bac6",
        "colab": {
          "base_uri": "https://localhost:8080/",
          "height": 34
        }
      },
      "source": [
        "num =  int(input())\n"
      ],
      "execution_count": null,
      "outputs": [
        {
          "output_type": "stream",
          "text": [
            "20\n"
          ],
          "name": "stdout"
        }
      ]
    },
    {
      "cell_type": "code",
      "metadata": {
        "id": "hz-bXkJhB6jS",
        "outputId": "0d813dc6-961a-4a56-d713-44d47c358d03",
        "colab": {
          "base_uri": "https://localhost:8080/",
          "height": 340
        }
      },
      "source": [
        "for i in range(1,20):\n",
        "  print(num,\"X\",i,\"=\",num*i)"
      ],
      "execution_count": null,
      "outputs": [
        {
          "output_type": "stream",
          "text": [
            "20 X 1 = 20\n",
            "20 X 2 = 40\n",
            "20 X 3 = 60\n",
            "20 X 4 = 80\n",
            "20 X 5 = 100\n",
            "20 X 6 = 120\n",
            "20 X 7 = 140\n",
            "20 X 8 = 160\n",
            "20 X 9 = 180\n",
            "20 X 10 = 200\n",
            "20 X 11 = 220\n",
            "20 X 12 = 240\n",
            "20 X 13 = 260\n",
            "20 X 14 = 280\n",
            "20 X 15 = 300\n",
            "20 X 16 = 320\n",
            "20 X 17 = 340\n",
            "20 X 18 = 360\n",
            "20 X 19 = 380\n"
          ],
          "name": "stdout"
        }
      ]
    },
    {
      "cell_type": "markdown",
      "metadata": {
        "id": "PRuD4YmmCMiP"
      },
      "source": [
        "*Nested For Loop*\n",
        "\n",
        "\n",
        "---\n",
        "\n"
      ]
    },
    {
      "cell_type": "code",
      "metadata": {
        "id": "YR2gyY3GCHcP",
        "outputId": "e1538d43-608f-4695-a3f7-a1f9817b6d54",
        "colab": {
          "base_uri": "https://localhost:8080/",
          "height": 357
        }
      },
      "source": [
        "for left in range(20):\n",
        "    for right in range(left,20):\n",
        "        print(\"[\"+str(left)+\"|\"+str(right)+\"]\", end =\" \")\n",
        "    print()"
      ],
      "execution_count": null,
      "outputs": [
        {
          "output_type": "stream",
          "text": [
            "[0|0] [0|1] [0|2] [0|3] [0|4] [0|5] [0|6] [0|7] [0|8] [0|9] [0|10] [0|11] [0|12] [0|13] [0|14] [0|15] [0|16] [0|17] [0|18] [0|19] \n",
            "[1|1] [1|2] [1|3] [1|4] [1|5] [1|6] [1|7] [1|8] [1|9] [1|10] [1|11] [1|12] [1|13] [1|14] [1|15] [1|16] [1|17] [1|18] [1|19] \n",
            "[2|2] [2|3] [2|4] [2|5] [2|6] [2|7] [2|8] [2|9] [2|10] [2|11] [2|12] [2|13] [2|14] [2|15] [2|16] [2|17] [2|18] [2|19] \n",
            "[3|3] [3|4] [3|5] [3|6] [3|7] [3|8] [3|9] [3|10] [3|11] [3|12] [3|13] [3|14] [3|15] [3|16] [3|17] [3|18] [3|19] \n",
            "[4|4] [4|5] [4|6] [4|7] [4|8] [4|9] [4|10] [4|11] [4|12] [4|13] [4|14] [4|15] [4|16] [4|17] [4|18] [4|19] \n",
            "[5|5] [5|6] [5|7] [5|8] [5|9] [5|10] [5|11] [5|12] [5|13] [5|14] [5|15] [5|16] [5|17] [5|18] [5|19] \n",
            "[6|6] [6|7] [6|8] [6|9] [6|10] [6|11] [6|12] [6|13] [6|14] [6|15] [6|16] [6|17] [6|18] [6|19] \n",
            "[7|7] [7|8] [7|9] [7|10] [7|11] [7|12] [7|13] [7|14] [7|15] [7|16] [7|17] [7|18] [7|19] \n",
            "[8|8] [8|9] [8|10] [8|11] [8|12] [8|13] [8|14] [8|15] [8|16] [8|17] [8|18] [8|19] \n",
            "[9|9] [9|10] [9|11] [9|12] [9|13] [9|14] [9|15] [9|16] [9|17] [9|18] [9|19] \n",
            "[10|10] [10|11] [10|12] [10|13] [10|14] [10|15] [10|16] [10|17] [10|18] [10|19] \n",
            "[11|11] [11|12] [11|13] [11|14] [11|15] [11|16] [11|17] [11|18] [11|19] \n",
            "[12|12] [12|13] [12|14] [12|15] [12|16] [12|17] [12|18] [12|19] \n",
            "[13|13] [13|14] [13|15] [13|16] [13|17] [13|18] [13|19] \n",
            "[14|14] [14|15] [14|16] [14|17] [14|18] [14|19] \n",
            "[15|15] [15|16] [15|17] [15|18] [15|19] \n",
            "[16|16] [16|17] [16|18] [16|19] \n",
            "[17|17] [17|18] [17|19] \n",
            "[18|18] [18|19] \n",
            "[19|19] \n"
          ],
          "name": "stdout"
        }
      ]
    },
    {
      "cell_type": "markdown",
      "metadata": {
        "id": "vFfUHE2SCzJA"
      },
      "source": [
        "Break statement"
      ]
    },
    {
      "cell_type": "code",
      "metadata": {
        "id": "382EUWgdCiIH",
        "outputId": "5822b33f-3e46-499b-e4f4-f893d478b831",
        "colab": {
          "base_uri": "https://localhost:8080/",
          "height": 34
        }
      },
      "source": [
        "for num in range(15):\n",
        "  if  num==10:\n",
        "    break\n",
        "  print(num, end=\" \")\n",
        "    "
      ],
      "execution_count": null,
      "outputs": [
        {
          "output_type": "stream",
          "text": [
            "0 1 2 3 4 5 6 7 8 9 "
          ],
          "name": "stdout"
        }
      ]
    },
    {
      "cell_type": "markdown",
      "metadata": {
        "id": "sqHMtufsDSbn"
      },
      "source": [
        "Continue statement"
      ]
    },
    {
      "cell_type": "code",
      "metadata": {
        "id": "85e79HleDQaJ",
        "outputId": "d73da50a-17de-4f56-9aaa-e3ff9559ba58",
        "colab": {
          "base_uri": "https://localhost:8080/",
          "height": 34
        }
      },
      "source": [
        "for num in range(20):\n",
        "  if  num==5:\n",
        "    continue\n",
        "  print(num, end=\" \")"
      ],
      "execution_count": null,
      "outputs": [
        {
          "output_type": "stream",
          "text": [
            "0 1 2 3 4 6 7 8 9 10 11 12 13 14 15 16 17 18 19 "
          ],
          "name": "stdout"
        }
      ]
    },
    {
      "cell_type": "code",
      "metadata": {
        "id": "CkJzGaf1DU8X"
      },
      "source": [
        ""
      ],
      "execution_count": null,
      "outputs": []
    },
    {
      "cell_type": "code",
      "metadata": {
        "id": "x4Ag7MRSFp7T"
      },
      "source": [
        ""
      ],
      "execution_count": null,
      "outputs": []
    },
    {
      "cell_type": "markdown",
      "metadata": {
        "id": "BvdYQE1RHkot"
      },
      "source": [
        "# **Beginner Problem solving from Uri Online Judge:**"
      ]
    },
    {
      "cell_type": "markdown",
      "metadata": {
        "id": "v7QZOXp_IBdm"
      },
      "source": [
        "# [**Uri online Judge:Extremly Basic**](https://)"
      ]
    },
    {
      "cell_type": "code",
      "metadata": {
        "id": "KrB7GfAwIOSL",
        "outputId": "cef5c058-2908-4236-8225-e6a0396a0278",
        "colab": {
          "base_uri": "https://localhost:8080/",
          "height": 68
        }
      },
      "source": [
        "a = int(input())\n",
        "b = int(input())\n",
        "print (\"X =\", a + b)"
      ],
      "execution_count": null,
      "outputs": [
        {
          "output_type": "stream",
          "text": [
            "10\n",
            "9\n",
            "X = 19\n"
          ],
          "name": "stdout"
        }
      ]
    },
    {
      "cell_type": "markdown",
      "metadata": {
        "id": "9fbL3GBSIm-W"
      },
      "source": [
        "# **Uri online Judge:Area Of a Circle**"
      ]
    },
    {
      "cell_type": "code",
      "metadata": {
        "id": "lPbdVUB8IyrB",
        "outputId": "cfdbf84a-14fe-4b0b-84d0-f1bcc8c15a8d",
        "colab": {
          "base_uri": "https://localhost:8080/",
          "height": 51
        }
      },
      "source": [
        "raio = float(input())\n",
        "area = (raio * raio) * 3.14159 \n",
        "print(\"A=%0.4f\" %area)"
      ],
      "execution_count": null,
      "outputs": [
        {
          "output_type": "stream",
          "text": [
            "2.00\n",
            "A=12.5664\n"
          ],
          "name": "stdout"
        }
      ]
    },
    {
      "cell_type": "markdown",
      "metadata": {
        "id": "27nLQWhgJipA"
      },
      "source": [
        "# **Uri online Judge:Difference**\n",
        "\n",
        "\n",
        "\n"
      ]
    },
    {
      "cell_type": "code",
      "metadata": {
        "id": "6faJSzEXMMza",
        "outputId": "d6cfeda9-4f68-45b1-f294-26e716e84cfd",
        "colab": {
          "base_uri": "https://localhost:8080/",
          "height": 102
        }
      },
      "source": [
        "a= int(input())\n",
        "b= int(input())\n",
        "c= int(input())\n",
        "d= int(input())\n",
        "\n",
        "difference=((a * b) - (c * d))\n",
        "\n",
        "print(\"DIFERENCA = %d\" %difference)\n",
        "\n"
      ],
      "execution_count": null,
      "outputs": [
        {
          "output_type": "stream",
          "text": [
            "5\n",
            "6\n",
            "7\n",
            "8\n",
            "DIFERENCA = -26\n"
          ],
          "name": "stdout"
        }
      ]
    },
    {
      "cell_type": "markdown",
      "metadata": {
        "id": "6RZZSGG_KktY"
      },
      "source": [
        "# **Uri online Judge:Age in Days** \n"
      ]
    },
    {
      "cell_type": "markdown",
      "metadata": {
        "id": "sE6RjAMrKdeh"
      },
      "source": [
        ""
      ]
    },
    {
      "cell_type": "code",
      "metadata": {
        "id": "j9mM6NvoNnOC",
        "outputId": "4ccec86f-9357-4acc-a055-1d0449cec2e2",
        "colab": {
          "base_uri": "https://localhost:8080/",
          "height": 85
        }
      },
      "source": [
        "n = int(input())\n",
        "\n",
        "ano = int(n) / 365\n",
        "mes = (int(n) - (int(ano) * 365)) / 30\n",
        "dias = int(n) - (int(ano) * 365) - (int(mes) * 30)\n",
        "\n",
        "print (int(ano), \"ano(s)\")\n",
        "print (int(mes), \"mes(es)\")\n",
        "print (int(dias), \"dia(s)\")"
      ],
      "execution_count": null,
      "outputs": [
        {
          "output_type": "stream",
          "text": [
            "400\n",
            "1 ano(s)\n",
            "1 mes(es)\n",
            "5 dia(s)\n"
          ],
          "name": "stdout"
        }
      ]
    },
    {
      "cell_type": "markdown",
      "metadata": {
        "id": "snCiCRguIjXg"
      },
      "source": [
        ""
      ]
    }
  ]
}